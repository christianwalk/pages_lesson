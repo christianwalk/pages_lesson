{
  "cells": [
    {
      "cell_type": "markdown",
      "metadata": {},
      "source": [
        "---\n",
        "title: \"Gapminder: Example Quarto Report\"\n",
        "author: \"The GRAPH Courses\"\n",
        "format: html\n",
        "---\n",
        "\n",
        "\n",
        "This is a Quarto report with a table, a scatter plot, and a map using the Gapminder dataset, Plotly, and itables.\n",
        "\n",
        "::: {.panel-tabset} \n",
        "\n",
        "## Table\n"
      ],
      "id": "e5a6e7a9"
    },
    {
      "cell_type": "code",
      "metadata": {},
      "source": [
        "from itables import show\n",
        "import plotly.express as px\n",
        "\n",
        "# Load Gapminder dataset\n",
        "gapminder = px.data.gapminder()\n",
        "\n",
        "# Display table\n",
        "show(gapminder.head())"
      ],
      "id": "a9adf066",
      "execution_count": null,
      "outputs": []
    },
    {
      "cell_type": "markdown",
      "metadata": {},
      "source": [
        "## Scatter Plot\n"
      ],
      "id": "5dd438c0"
    },
    {
      "cell_type": "code",
      "metadata": {},
      "source": [
        "px.scatter(\n",
        "    gapminder.query(\"year == 2007\"),\n",
        "    x=\"gdpPercap\",\n",
        "    y=\"lifeExp\",\n",
        "    color=\"continent\",\n",
        "    title=\"GDP vs Life Expectancy (2007)\"\n",
        ")"
      ],
      "id": "610ac179",
      "execution_count": null,
      "outputs": []
    },
    {
      "cell_type": "markdown",
      "metadata": {},
      "source": [
        "## Map\n"
      ],
      "id": "d6a9c2b9"
    },
    {
      "cell_type": "code",
      "metadata": {},
      "source": [
        "px.choropleth(\n",
        "    gapminder.query(\"year == 2007\"),\n",
        "    locations=\"iso_alpha\",\n",
        "    color=\"lifeExp\",\n",
        "    hover_name=\"country\",\n",
        "    title=\"Life Expectancy (2007)\",\n",
        ")"
      ],
      "id": "b267c0fe",
      "execution_count": null,
      "outputs": []
    },
    {
      "cell_type": "markdown",
      "metadata": {},
      "source": [
        ":::\n",
        "\n",
        "Sample quarto report from the GRAPH Courses python bootcamp (thegraphcourses.org/pbb)."
      ],
      "id": "e189d9b1"
    }
  ],
  "metadata": {
    "kernelspec": {
      "display_name": "Python 3",
      "language": "python",
      "name": "python3"
    }
  },
  "nbformat": 4,
  "nbformat_minor": 5
}